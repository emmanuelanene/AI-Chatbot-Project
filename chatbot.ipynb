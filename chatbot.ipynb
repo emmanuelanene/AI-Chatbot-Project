{
 "cells": [
  {
   "cell_type": "code",
   "id": "initial_id",
   "metadata": {
    "collapsed": true,
    "ExecuteTime": {
     "end_time": "2025-04-29T19:18:58.455877Z",
     "start_time": "2025-04-29T19:18:58.448749Z"
    }
   },
   "source": [
    "import gradio as gr\n",
    "from huggingface_hub import InferenceClient"
   ],
   "outputs": [],
   "execution_count": 17
  },
  {
   "metadata": {
    "ExecuteTime": {
     "end_time": "2025-04-29T19:22:06.528146Z",
     "start_time": "2025-04-29T19:22:06.516929Z"
    }
   },
   "cell_type": "code",
   "source": [
    "from dotenv import load_dotenv\n",
    "load_dotenv()\n",
    "import os"
   ],
   "id": "466251e95e5529bb",
   "outputs": [],
   "execution_count": 26
  },
  {
   "metadata": {
    "ExecuteTime": {
     "end_time": "2025-04-29T19:22:36.176094Z",
     "start_time": "2025-04-29T19:22:36.167657Z"
    }
   },
   "cell_type": "code",
   "source": "hf_token = os.getenv(\"HUGGINGFACEHUB_API_TOKEN\")",
   "id": "2c79d1de37d9210",
   "outputs": [],
   "execution_count": 27
  },
  {
   "metadata": {
    "ExecuteTime": {
     "end_time": "2025-04-29T19:22:48.011102Z",
     "start_time": "2025-04-29T19:22:48.002605Z"
    }
   },
   "cell_type": "code",
   "source": [
    "client = InferenceClient(\n",
    "    \"HuggingFaceH4/zephyr-7b-beta\",\n",
    "    token=hf_token\n",
    ")"
   ],
   "id": "ee5972d20a273af2",
   "outputs": [],
   "execution_count": 28
  },
  {
   "metadata": {
    "ExecuteTime": {
     "end_time": "2025-04-29T19:22:49.910299Z",
     "start_time": "2025-04-29T19:22:49.900022Z"
    }
   },
   "cell_type": "code",
   "source": [
    "def respond(message, history, system_message, max_tokens, temperature, top_p):\n",
    "    messages = [{\"role\": \"system\", \"content\": system_message}] + history\n",
    "    messages.append({\"role\": \"user\", \"content\": message})\n",
    "\n",
    "    response = \"\"\n",
    "\n",
    "    try:\n",
    "        for message in client.chat_completion(\n",
    "            messages,\n",
    "            max_tokens=max_tokens,\n",
    "            stream=True,\n",
    "            temperature=temperature,\n",
    "            top_p=top_p,\n",
    "        ):\n",
    "            token = message.choices[0].delta.content\n",
    "            if token:\n",
    "                response += token\n",
    "                yield response\n",
    "\n",
    "    except Exception as e:\n",
    "        print(\"ERROR:\", e)\n",
    "        yield f\"Error: {e}\""
   ],
   "id": "145eb1f51f9a47af",
   "outputs": [],
   "execution_count": 29
  },
  {
   "metadata": {
    "ExecuteTime": {
     "end_time": "2025-04-29T19:22:54.904791Z",
     "start_time": "2025-04-29T19:22:52.936831Z"
    }
   },
   "cell_type": "code",
   "source": [
    "demo = gr.ChatInterface(\n",
    "    respond,\n",
    "    additional_inputs=[\n",
    "        gr.Textbox(value=\"You are a friendly Chatbot.\", label=\"System message\"),\n",
    "        gr.Slider(minimum=1, maximum=2048, value=512, step=1, label=\"Max new tokens\"),\n",
    "        gr.Slider(minimum=0.1, maximum=4.0, value=0.7, step=0.1, label=\"Temperature\"),\n",
    "        gr.Slider(minimum=0.1, maximum=1.0, value=0.95, step=0.05, label=\"Top-p (nucleus sampling)\"),\n",
    "    ],\n",
    "    chatbot=gr.Chatbot(type=\"messages\"),\n",
    ")\n",
    "\n",
    "\n",
    "if __name__ == \"__main__\":\n",
    "    demo.launch()"
   ],
   "id": "1cb44c302bb3e8c9",
   "outputs": [
    {
     "name": "stderr",
     "output_type": "stream",
     "text": [
      "C:\\Users\\emman\\PycharmProjects\\chatbot-app\\.venv\\Lib\\site-packages\\gradio\\chat_interface.py:321: UserWarning: The gr.ChatInterface was not provided with a type, so the type of the gr.Chatbot, 'messages', will be used.\n",
      "  warnings.warn(\n"
     ]
    },
    {
     "name": "stdout",
     "output_type": "stream",
     "text": [
      "* Running on local URL:  http://127.0.0.1:7867\n",
      "\n",
      "To create a public link, set `share=True` in `launch()`.\n"
     ]
    },
    {
     "data": {
      "text/plain": [
       "<IPython.core.display.HTML object>"
      ],
      "text/html": [
       "<div><iframe src=\"http://127.0.0.1:7867/\" width=\"100%\" height=\"500\" allow=\"autoplay; camera; microphone; clipboard-read; clipboard-write;\" frameborder=\"0\" allowfullscreen></iframe></div>"
      ]
     },
     "metadata": {},
     "output_type": "display_data"
    }
   ],
   "execution_count": 30
  }
 ],
 "metadata": {
  "kernelspec": {
   "display_name": "Python 3",
   "language": "python",
   "name": "python3"
  },
  "language_info": {
   "codemirror_mode": {
    "name": "ipython",
    "version": 2
   },
   "file_extension": ".py",
   "mimetype": "text/x-python",
   "name": "python",
   "nbconvert_exporter": "python",
   "pygments_lexer": "ipython2",
   "version": "2.7.6"
  }
 },
 "nbformat": 4,
 "nbformat_minor": 5
}
